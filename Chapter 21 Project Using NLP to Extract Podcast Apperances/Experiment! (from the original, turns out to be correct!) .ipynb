{
 "cells": [
  {
   "cell_type": "code",
   "execution_count": 1,
   "metadata": {},
   "outputs": [],
   "source": [
    "import spacy, feedparser\n",
    "from collections import defaultdict\n",
    "\n",
    "nlp = spacy.load('en_core_web_lg')"
   ]
  },
  {
   "cell_type": "code",
   "execution_count": 2,
   "metadata": {},
   "outputs": [],
   "source": [
    "def extract_people(doc):\n",
    "    # Merge any entities that are split across tokens\n",
    "    for ent in doc.ents:\n",
    "        ent.merge()\n",
    "\n",
    "    # Get a list of all the people mentioned in the text.\n",
    "    people_names = [entity.text for entity in doc.ents if entity.label_ == \"PERSON\"]\n",
    "\n",
    "    # Filter out names that aren't both a first and last name.\n",
    "    people_names = [name for name in people_names if len(name.split(\" \")) == 2]\n",
    "\n",
    "    # Converting the list to a set removes any duplicate names.\n",
    "    return list(set(people_names))"
   ]
  },
  {
   "cell_type": "code",
   "execution_count": 3,
   "metadata": {},
   "outputs": [],
   "source": [
    "# Parse the podcast feed\n",
    "feed_object = feedparser.parse(\"https://www.npr.org/rss/podcast.php?id=510309\")\n",
    "\n",
    "# Grab the show description and list of episodes\n",
    "show_description = feed_object.feed.description\n",
    "podcast_episodes = feed_object.entries\n",
    "\n",
    "# Grab the hosts of the show from the show description\n",
    "doc = nlp(show_description)\n",
    "hosts = extract_people(doc)"
   ]
  },
  {
   "cell_type": "code",
   "execution_count": 4,
   "metadata": {},
   "outputs": [],
   "source": [
    "# Create dictionaries to track appearances\n",
    "appearance_count = defaultdict(int)\n",
    "appearance_list = defaultdict(list)\n",
    "\n",
    "# Loop through each episode in the podcast feed\n",
    "for episode in podcast_episodes:\n",
    "    # Grab the episode's title and description text\n",
    "    episode_title = episode.title\n",
    "    episode_description = episode.summary\n",
    "\n",
    "    # Get a list of people that appear in the show description\n",
    "    doc = nlp(episode_description)\n",
    "    people_in_episode = extract_people(doc)\n",
    "\n",
    "    # Record who appeared in the episode (if they aren't a host)\n",
    "    for person in people_in_episode:\n",
    "        if person not in hosts:\n",
    "            appearance_count[person] += 1\n",
    "            appearance_list[person].append(episode_title)"
   ]
  },
  {
   "cell_type": "code",
   "execution_count": 5,
   "metadata": {},
   "outputs": [
    {
     "name": "stdout",
     "output_type": "stream",
     "text": [
      "Show hosts: ['Jesse Thorn']\n",
      "James Gandolfini appeared on the following episodes:\n",
      " - Edie Falco\n",
      " - Nicole Holofcener & Lodge 49\n",
      "\n",
      "Edie Falco appeared on the following episodes:\n",
      " - Edie Falco\n",
      " - Edie Falco and Hunter Pence\n",
      "\n",
      "Jean-Michel Basquiat appeared on the following episodes:\n",
      " - Filmmaker and actor Sara Driver\n",
      " - H. Jon Benjamin & Sara Driver\n",
      "\n"
     ]
    }
   ],
   "source": [
    "# Now let's find the Top 3 most frequent guests on this podcast:\n",
    "most_frequent_guests = sorted(appearance_count, key=appearance_count.get, reverse=True)[0:3]\n",
    "\n",
    "# Print out the results\n",
    "print(f\"Show hosts: {hosts}\")\n",
    "\n",
    "for person in most_frequent_guests:\n",
    "    # Next, let's look up all the specific episodes that a particular person appeared on:\n",
    "    print(f\"{person} appeared on the following episodes:\")\n",
    "\n",
    "    for episode_title in appearance_list[person]:\n",
    "        print(\" - {}\".format(episode_title))\n",
    "\n",
    "    print()"
   ]
  }
 ],
 "metadata": {
  "kernelspec": {
   "display_name": "Python 3",
   "language": "python",
   "name": "python3"
  },
  "language_info": {
   "codemirror_mode": {
    "name": "ipython",
    "version": 3
   },
   "file_extension": ".py",
   "mimetype": "text/x-python",
   "name": "python",
   "nbconvert_exporter": "python",
   "pygments_lexer": "ipython3",
   "version": "3.7.0"
  }
 },
 "nbformat": 4,
 "nbformat_minor": 2
}
