{
 "cells": [
  {
   "cell_type": "markdown",
   "metadata": {},
   "source": [
    "***Train the model***"
   ]
  },
  {
   "cell_type": "code",
   "execution_count": 5,
   "metadata": {},
   "outputs": [],
   "source": [
    "from keras.datasets import cifar10\n",
    "from keras.models import Sequential\n",
    "from keras.layers import Dense, Dropout, Flatten, Conv2D, MaxPooling2D, BatchNormalization\n",
    "\n",
    "# Load the data set\n",
    "(x_train, y_train), (x_test, y_test) = cifar10.load_data()"
   ]
  },
  {
   "cell_type": "code",
   "execution_count": 6,
   "metadata": {},
   "outputs": [
    {
     "name": "stdout",
     "output_type": "stream",
     "text": [
      "WARNING:tensorflow:From C:\\Users\\maikh\\Anaconda3\\lib\\site-packages\\keras\\backend\\tensorflow_backend.py:3445: calling dropout (from tensorflow.python.ops.nn_ops) with keep_prob is deprecated and will be removed in a future version.\n",
      "Instructions for updating:\n",
      "Please use `rate` instead of `keep_prob`. Rate should be set to `rate = 1 - keep_prob`.\n"
     ]
    }
   ],
   "source": [
    "# CIFAR10 has ten types of images labeled from 0 to 9. We only care about birds, which are labeled as class #2.\n",
    "# So we'll cheat and change the Y values. Instead of each class being labeled from 0 to 9, we'll set it to True\n",
    "# if it's a bird and False if it's not a bird.\n",
    "y_train = (y_train ==2).astype(int)\n",
    "y_test = (y_test == 2).astype(int)\n",
    "\n",
    "# Normalize image data (pixel values from 0 to 255) to the 0-to-1 range\n",
    "x_train = x_train.astype(\"float32\")\n",
    "x_test = x_test.astype(\"float32\")\n",
    "x_train /= 255\n",
    "x_test /= 255\n",
    "\n",
    "# Create a model and add layers\n",
    "model = Sequential()\n",
    "\n",
    "model.add(\n",
    "    Conv2D(\n",
    "        32, \n",
    "        (3,3), \n",
    "        padding=\"same\", \n",
    "        input_shape=(32, 32, 3), \n",
    "        activation=\"relu\"\n",
    "    )\n",
    ")\n",
    "model.add(Conv2D(32, (3,3), activation=\"relu\"))\n",
    "model.add(MaxPooling2D(pool_size=(2,2)))\n",
    "model.add(BatchNormalization())\n",
    "model.add(Dropout(0.25))\n",
    "\n",
    "model.add(Conv2D(64, (3,3), padding=\"same\", activation=\"relu\"))\n",
    "model.add(Conv2D(64, (3,3), activation=\"relu\"))\n",
    "model.add(MaxPooling2D(pool_size=(2,2)))\n",
    "model.add(BatchNormalization())\n",
    "model.add(Dropout(0.25))\n",
    "\n",
    "model.add(Flatten())\n",
    "model.add(Dense(512, activation=\"relu\"))\n",
    "model.add(Dropout(0.5))\n",
    "model.add(Dense(1, activation=\"sigmoid\"))\n",
    "\n"
   ]
  },
  {
   "cell_type": "code",
   "execution_count": 7,
   "metadata": {},
   "outputs": [
    {
     "name": "stdout",
     "output_type": "stream",
     "text": [
      "WARNING:tensorflow:From C:\\Users\\maikh\\Anaconda3\\lib\\site-packages\\tensorflow\\python\\ops\\math_ops.py:3066: to_int32 (from tensorflow.python.ops.math_ops) is deprecated and will be removed in a future version.\n",
      "Instructions for updating:\n",
      "Use tf.cast instead.\n",
      "Train on 50000 samples, validate on 10000 samples\n",
      "Epoch 1/10\n",
      "50000/50000 [==============================] - 207s 4ms/step - loss: 0.3218 - acc: 0.8916 - val_loss: 0.2870 - val_acc: 0.9020\n",
      "Epoch 2/10\n",
      "50000/50000 [==============================] - 224s 4ms/step - loss: 0.2498 - acc: 0.9064 - val_loss: 0.2278 - val_acc: 0.9102\n",
      "Epoch 3/10\n",
      "50000/50000 [==============================] - 240s 5ms/step - loss: 0.2321 - acc: 0.9121 - val_loss: 0.3188 - val_acc: 0.9056\n",
      "Epoch 4/10\n",
      "50000/50000 [==============================] - 249s 5ms/step - loss: 0.2197 - acc: 0.9170 - val_loss: 0.2208 - val_acc: 0.9155\n",
      "Epoch 5/10\n",
      "50000/50000 [==============================] - 246s 5ms/step - loss: 0.2053 - acc: 0.9221 - val_loss: 0.2810 - val_acc: 0.8888\n",
      "Epoch 6/10\n",
      "50000/50000 [==============================] - 247s 5ms/step - loss: 0.1934 - acc: 0.9266 - val_loss: 0.1881 - val_acc: 0.9273\n",
      "Epoch 7/10\n",
      "50000/50000 [==============================] - 250s 5ms/step - loss: 0.1834 - acc: 0.9308 - val_loss: 0.1979 - val_acc: 0.9248\n",
      "Epoch 8/10\n",
      "50000/50000 [==============================] - 255s 5ms/step - loss: 0.1727 - acc: 0.9341 - val_loss: 0.2010 - val_acc: 0.9293\n",
      "Epoch 9/10\n",
      "50000/50000 [==============================] - 257s 5ms/step - loss: 0.1609 - acc: 0.9373 - val_loss: 0.2200 - val_acc: 0.9226\n",
      "Epoch 10/10\n",
      "50000/50000 [==============================] - 258s 5ms/step - loss: 0.1523 - acc: 0.9422 - val_loss: 0.2055 - val_acc: 0.9290\n"
     ]
    }
   ],
   "source": [
    "# Compile the model\n",
    "model.compile(\n",
    "    loss=\"binary_crossentropy\",\n",
    "    optimizer=\"adam\",\n",
    "    metrics=[\"accuracy\"]\n",
    ")\n",
    "\n",
    "# Train the model\n",
    "model.fit(\n",
    "    x_train,\n",
    "    y_train,\n",
    "    batch_size=32,\n",
    "    epochs=10,\n",
    "    validation_data=(x_test, y_test),\n",
    "    shuffle=True\n",
    ")\n",
    "\n",
    "# Save the trained model to a file so we can use it to make predictions later\n",
    "model.save(\"bird_model.h5\")"
   ]
  },
  {
   "cell_type": "markdown",
   "metadata": {},
   "source": [
    "***Testing the network***"
   ]
  },
  {
   "cell_type": "code",
   "execution_count": 1,
   "metadata": {},
   "outputs": [
    {
     "name": "stderr",
     "output_type": "stream",
     "text": [
      "Using TensorFlow backend.\n"
     ]
    },
    {
     "name": "stdout",
     "output_type": "stream",
     "text": [
      "WARNING:tensorflow:From C:\\Users\\maikh\\Anaconda3\\lib\\site-packages\\tensorflow\\python\\framework\\op_def_library.py:263: colocate_with (from tensorflow.python.framework.ops) is deprecated and will be removed in a future version.\n",
      "Instructions for updating:\n",
      "Colocations handled automatically by placer.\n",
      "WARNING:tensorflow:From C:\\Users\\maikh\\Anaconda3\\lib\\site-packages\\keras\\backend\\tensorflow_backend.py:3445: calling dropout (from tensorflow.python.ops.nn_ops) with keep_prob is deprecated and will be removed in a future version.\n",
      "Instructions for updating:\n",
      "Please use `rate` instead of `keep_prob`. Rate should be set to `rate = 1 - keep_prob`.\n",
      "WARNING:tensorflow:From C:\\Users\\maikh\\Anaconda3\\lib\\site-packages\\tensorflow\\python\\ops\\math_ops.py:3066: to_int32 (from tensorflow.python.ops.math_ops) is deprecated and will be removed in a future version.\n",
      "Instructions for updating:\n",
      "Use tf.cast instead.\n"
     ]
    }
   ],
   "source": [
    "from keras.models import load_model\n",
    "from keras.preprocessing import image\n",
    "from pathlib import Path\n",
    "import numpy as np\n",
    "\n",
    "# Load the model we trained\n",
    "model1 = load_model(\"bird_model.h5\")"
   ]
  },
  {
   "cell_type": "code",
   "execution_count": 6,
   "metadata": {},
   "outputs": [
    {
     "name": "stdout",
     "output_type": "stream",
     "text": [
      "bird1.png is most likely NOT a bird! (0.04)\n",
      "bird2.png is most likely a bird! (0.90)\n",
      "bird3.png is most likely NOT a bird! (0.28)\n",
      "bird4.png is most likely NOT a bird! (0.46)\n",
      "bird5.png is most likely NOT a bird! (0.30)\n",
      "not_bird1.png is most likely NOT a bird! (0.00)\n",
      "not_bird2.png is most likely NOT a bird! (0.01)\n",
      "not_bird3.png is most likely NOT a bird! (0.02)\n",
      "not_bird4.png is most likely NOT a bird! (0.00)\n",
      "not_bird5.png is most likely NOT a bird! (0.00)\n"
     ]
    }
   ],
   "source": [
    "for f in sorted(Path(\".\").glob(\"*.png\")):\n",
    "    \n",
    "    # Load an image file to test\n",
    "    image_to_test = image.load_img(str(f), target_size=(32, 32))\n",
    "    \n",
    "    # Convert the image data to a numpy array suitable for Keras \n",
    "    image_to_test = image.img_to_array(image_to_test)\n",
    "    \n",
    "    # Normalize the image the same way we normalized the training data (divide all the numbers by 255)\n",
    "    image_to_test /= 255\n",
    "    \n",
    "    # Add a fourth dimension to the image since Keras expects a list of images \n",
    "    list_of_images = np.expand_dims(image_to_test, axis=0)\n",
    "    \n",
    "    # Make a prediction using the bird model\n",
    "    results = model1.predict(list_of_images)\n",
    "    \n",
    "    # Since we only passed in one test image, we can just check the first result directly.\n",
    "    image_likelihood = results[0][0]\n",
    "    \n",
    "    # The result will be a number from 0.0 to 1.0 representing the likelihood that this image is a bird.\n",
    "    if image_likelihood > 0.5:\n",
    "        print(f\"{f} is most likely a bird! ({image_likelihood:.2f})\")\n",
    "    else:\n",
    "        print(f\"{f} is most likely NOT a bird! ({image_likelihood:.2f})\")"
   ]
  },
  {
   "cell_type": "markdown",
   "metadata": {},
   "source": [
    "***Precision and recall***"
   ]
  },
  {
   "cell_type": "code",
   "execution_count": 8,
   "metadata": {},
   "outputs": [
    {
     "name": "stdout",
     "output_type": "stream",
     "text": [
      "10000/10000 [==============================] - 16s 2ms/step\n",
      "True Positives: 342\n",
      "True Negatives: 8948\n",
      "False Positives: 52\n",
      "False Negatvies: 658\n",
      "             precision    recall  f1-score   support\n",
      "\n",
      "      False       0.93      0.99      0.96      9000\n",
      "       True       0.87      0.34      0.49      1000\n",
      "\n",
      "avg / total       0.93      0.93      0.91     10000\n",
      "\n"
     ]
    }
   ],
   "source": [
    "from sklearn.metrics import confusion_matrix, classification_report\n",
    "from keras.datasets import cifar10\n",
    "from keras.models import load_model \n",
    "\n",
    "# Load data set\n",
    "(x_train, y_train), (x_test, y_test) = cifar10.load_data()\n",
    "\n",
    "# CIFAR10 has ten types of images labeled from 0 to 9. We only care about birds, which are labeled as class #2.\n",
    "# So we'll cheat and change the Y values. Instead of each class being labeled from 0 to 9, we'll set it to True\n",
    "# if it's a bird and False if it's not a bird.\n",
    "y_test = y_test == 2\n",
    "\n",
    "# Normalize image data (pixel values from 0 to 255) to the 0-to-1 range\n",
    "x_test = x_test.astype(\"float32\")\n",
    "x_test /= 255\n",
    "\n",
    "# Load the model we trained \n",
    "model2 = load_model(\"bird_model.h5\")\n",
    "predictions = model2.predict(x_test, batch_size=32, verbose=1)\n",
    "\n",
    "# If the model is more than 50% sure the object is a bird, call it a bird.\n",
    "# Otherwise, call it \"not a bird\"\n",
    "predictions = predictions > 0.5\n",
    "\n",
    "# Calculate how many mis-classifications the model makes \n",
    "tn, fp, fn, tp =  confusion_matrix(y_test, predictions).ravel()\n",
    "print(f\"True Positives: {tp}\")\n",
    "print(f\"True Negatives: {tn}\")\n",
    "print(f\"False Positives: {fp}\")\n",
    "print(f\"False Negatvies: {fn}\")\n",
    "\n",
    "# Calculate Precision and Recall for each class\n",
    "report = classification_report(y_test, predictions)\n",
    "print(report)\n"
   ]
  },
  {
   "cell_type": "code",
   "execution_count": null,
   "metadata": {},
   "outputs": [],
   "source": []
  }
 ],
 "metadata": {
  "kernelspec": {
   "display_name": "Python 3",
   "language": "python",
   "name": "python3"
  },
  "language_info": {
   "codemirror_mode": {
    "name": "ipython",
    "version": 3
   },
   "file_extension": ".py",
   "mimetype": "text/x-python",
   "name": "python",
   "nbconvert_exporter": "python",
   "pygments_lexer": "ipython3",
   "version": "3.7.0"
  }
 },
 "nbformat": 4,
 "nbformat_minor": 2
}
