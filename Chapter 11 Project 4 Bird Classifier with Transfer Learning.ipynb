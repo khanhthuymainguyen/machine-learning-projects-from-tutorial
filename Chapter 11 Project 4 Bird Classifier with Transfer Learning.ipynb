{
 "cells": [
  {
   "cell_type": "code",
   "execution_count": 8,
   "metadata": {},
   "outputs": [
    {
     "data": {
      "text/plain": [
       "['y_train.dat']"
      ]
     },
     "execution_count": 8,
     "metadata": {},
     "output_type": "execute_result"
    }
   ],
   "source": [
    "from pathlib import Path\n",
    "import numpy as np\n",
    "from sklearn.externals import joblib\n",
    "from keras.preprocessing import image\n",
    "from keras.applications import xception\n",
    "\n",
    "# Empty lists to hole the images and labels for each image\n",
    "x_train = []\n",
    "y_train = []\n",
    "\n",
    "# Load the training data set by looping over every image file\n",
    "for image_file in Path(\"training_dataset\").glob(\"**/*.png\"):\n",
    "    \n",
    "    # Loaf the current image file \n",
    "    image_data = image.load_img(\n",
    "        image_file,\n",
    "        target_size=(73, 73)\n",
    "    )\n",
    "    \n",
    "    # Convert the loaded image file to a numpy array\n",
    "    image_array = image.img_to_array(image_data)\n",
    "    \n",
    "    # Add the current image to our list of training images \n",
    "    x_train.append(image_array)\n",
    "    \n",
    "    # Add a label for this image. If it was a not_bird image, label it 0. If it was a bird, label it 1.\n",
    "    if \"not_bird\" in image_file.stem:\n",
    "        y_train.append(0)\n",
    "    else:\n",
    "        y_train.append(1)\n",
    "        \n",
    "# Convert the list of seperate images into a single 4D numpy array. This is what Keras expects\n",
    "x_train = np.array(x_train)\n",
    "\n",
    "# Normalize image data to 0-to-1 range\n",
    "x_train = xception.preprocess_input(x_train)\n",
    "\n",
    "# Load the pre-trained neural network to use as a feature extractor\n",
    "feature_extractor = xception.Xception(\n",
    "    weights=\"imagenet\",\n",
    "    include_top=False,\n",
    "    input_shape=(73, 73, 3)\n",
    ")\n",
    "        \n",
    "# Extract features for each image (all in one pass)\n",
    "features_x = feature_extractor.predict(x_train)\n",
    "\n",
    "# Save the array of extracted features to a file\n",
    "joblib.dump(features_x, \"x_train.dat\")\n",
    "\n",
    "# Save the matching array of expected values to a file \n",
    "joblib.dump(y_train, \"y_train.dat\")"
   ]
  },
  {
   "cell_type": "markdown",
   "metadata": {},
   "source": [
    "***Training our new classifier***"
   ]
  },
  {
   "cell_type": "code",
   "execution_count": 10,
   "metadata": {},
   "outputs": [],
   "source": [
    "from keras.models import Sequential\n",
    "from keras.layers import Dense, Dropout, Flatten\n",
    "from sklearn.externals import joblib \n",
    "\n",
    "# Load data set of extracted features \n",
    "x_train = joblib.load(\"x_train.dat\")\n",
    "y_train = joblib.load(\"y_train.dat\")"
   ]
  },
  {
   "cell_type": "code",
   "execution_count": 12,
   "metadata": {},
   "outputs": [
    {
     "name": "stdout",
     "output_type": "stream",
     "text": [
      "WARNING:tensorflow:From C:\\Users\\maikh\\Anaconda3\\lib\\site-packages\\keras\\backend\\tensorflow_backend.py:3445: calling dropout (from tensorflow.python.ops.nn_ops) with keep_prob is deprecated and will be removed in a future version.\n",
      "Instructions for updating:\n",
      "Please use `rate` instead of `keep_prob`. Rate should be set to `rate = 1 - keep_prob`.\n"
     ]
    }
   ],
   "source": [
    "# Create a model and add layers\n",
    "model1= Sequential()\n",
    "\n",
    "# Add layers to our model\n",
    "model1.add(Flatten(input_shape=x_train.shape[1:]))\n",
    "model1.add(Dense(128, activation=\"relu\"))\n",
    "model1.add(Dropout(0.5))\n",
    "model1.add(Dense(1, activation = \"sigmoid\"))\n",
    "\n",
    "# Compile the model\n",
    "model1.compile(\n",
    "    loss=\"binary_crossentropy\",\n",
    "    optimizer=\"adam\",\n",
    "    metrics=[\"accuracy\"]\n",
    ")"
   ]
  },
  {
   "cell_type": "code",
   "execution_count": 13,
   "metadata": {},
   "outputs": [
    {
     "name": "stdout",
     "output_type": "stream",
     "text": [
      "WARNING:tensorflow:From C:\\Users\\maikh\\Anaconda3\\lib\\site-packages\\tensorflow\\python\\ops\\math_ops.py:3066: to_int32 (from tensorflow.python.ops.math_ops) is deprecated and will be removed in a future version.\n",
      "Instructions for updating:\n",
      "Use tf.cast instead.\n",
      "Train on 1900 samples, validate on 100 samples\n",
      "Epoch 1/10\n",
      " - 7s - loss: 0.7410 - acc: 0.7526 - val_loss: 0.4296 - val_acc: 0.6900\n",
      "Epoch 2/10\n",
      " - 2s - loss: 0.3852 - acc: 0.8211 - val_loss: 0.2598 - val_acc: 0.8700\n",
      "Epoch 3/10\n",
      " - 2s - loss: 0.3475 - acc: 0.8495 - val_loss: 0.2887 - val_acc: 0.8400\n",
      "Epoch 4/10\n",
      " - 2s - loss: 0.2910 - acc: 0.8642 - val_loss: 0.4343 - val_acc: 0.7700\n",
      "Epoch 5/10\n",
      " - 2s - loss: 0.2873 - acc: 0.8679 - val_loss: 0.3508 - val_acc: 0.8100\n",
      "Epoch 6/10\n",
      " - 2s - loss: 0.2506 - acc: 0.8900 - val_loss: 0.4933 - val_acc: 0.7700\n",
      "Epoch 7/10\n",
      " - 2s - loss: 0.2266 - acc: 0.9005 - val_loss: 0.3882 - val_acc: 0.8000\n",
      "Epoch 8/10\n",
      " - 2s - loss: 0.1928 - acc: 0.9200 - val_loss: 0.4104 - val_acc: 0.8300\n",
      "Epoch 9/10\n",
      " - 2s - loss: 0.1869 - acc: 0.9200 - val_loss: 0.5151 - val_acc: 0.7900\n",
      "Epoch 10/10\n",
      " - 2s - loss: 0.1601 - acc: 0.9300 - val_loss: 0.6262 - val_acc: 0.7400\n"
     ]
    }
   ],
   "source": [
    "# Train the model\n",
    "model1.fit(\n",
    "    x_train,\n",
    "    y_train,\n",
    "    validation_split=0.05,\n",
    "    epochs=10,\n",
    "    shuffle=True,\n",
    "    verbose=2\n",
    ")\n",
    "\n",
    "# Save the trained model to a file so we can use it to make predictions later\n",
    "model1.save(\"bird_feature_classifier_model.h5\")"
   ]
  },
  {
   "cell_type": "markdown",
   "metadata": {},
   "source": [
    "***Using the Model to make Predictions***"
   ]
  },
  {
   "cell_type": "code",
   "execution_count": 14,
   "metadata": {},
   "outputs": [],
   "source": [
    "from keras.models import load_model\n",
    "from keras.preprocessing import image\n",
    "import numpy as np\n",
    "from keras.applications import xception "
   ]
  },
  {
   "cell_type": "code",
   "execution_count": 15,
   "metadata": {},
   "outputs": [],
   "source": [
    "image_to_test = \"bird_1.png\"\n",
    "\n",
    "# Load the model we trained \n",
    "model2 = load_model(\"bird_feature_classifier_model.h5\")\n",
    "\n",
    "# Load image to test, resizing it to 73 pixels (as required by this model)\n",
    "img = image.load_img(image_to_test, target_size=(73, 73))\n",
    "\n",
    "# Convert the image to a numpy array\n",
    "image_array = image.img_to_array(img)\n",
    "\n",
    "# Add a forth dimension to the image (since Keras expects a bunch of images, not a single image)\n",
    "images = np.expand_dims(image_array, axis=0)\n"
   ]
  },
  {
   "cell_type": "code",
   "execution_count": 16,
   "metadata": {},
   "outputs": [],
   "source": [
    "# Normalize the data \n",
    "images = xception.preprocess_input(images)\n",
    "\n",
    "# Use the pre-trained neural network to extract features from our test image (the same way we did to train the model)\n",
    "feature_extraction_model = xception.Xception(\n",
    "    weights=\"imagenet\",\n",
    "    include_top=False,\n",
    "    input_shape=(73, 73, 3)\n",
    ")\n",
    "\n",
    "features = feature_extraction_model.predict(images)"
   ]
  },
  {
   "cell_type": "code",
   "execution_count": 18,
   "metadata": {},
   "outputs": [
    {
     "name": "stdout",
     "output_type": "stream",
     "text": [
      "Likelihood that bird_1.png is a bird: 99.84486103057861%\n"
     ]
    }
   ],
   "source": [
    "# Given the extracted features, make a final prediction using our own model\n",
    "results = model2.predict(features)\n",
    "\n",
    "# Since we are only testing one image with possible class, we only need to check the first result's first element\n",
    "single_result = results[0][0]\n",
    "\n",
    "# Print the result\n",
    "print(f\"Likelihood that {image_to_test} is a bird: {single_result*100}%\")"
   ]
  },
  {
   "cell_type": "markdown",
   "metadata": {},
   "source": [
    "***Checking Precision and Recall***"
   ]
  },
  {
   "cell_type": "code",
   "execution_count": 19,
   "metadata": {},
   "outputs": [],
   "source": [
    "import numpy as np\n",
    "from keras.preprocessing import image\n",
    "from keras.applications import xception\n",
    "from pathlib import Path\n",
    "from keras.models import load_model\n",
    "from sklearn.metrics import confusion_matrix, classification_report "
   ]
  },
  {
   "cell_type": "code",
   "execution_count": 21,
   "metadata": {},
   "outputs": [],
   "source": [
    "# Empty lists to hold the images and labels for rach image\n",
    "x_test = []\n",
    "y_test = []\n",
    "\n",
    "# Load the test data set by looping over every image file\n",
    "for image_file in Path(\"test_dataset\").glob(\"**/*.png\"):\n",
    "    \n",
    "    # Load the current image file\n",
    "    image_data = image.load_img(\n",
    "        image_file,\n",
    "        target_size = (73, 73)\n",
    "    )\n",
    "    \n",
    "    # Convert the loaded image file to a numpy array\n",
    "    image_array = image.img_to_array(image_data)\n",
    "    \n",
    "    # Add the current image to our list of test images\n",
    "    x_test.append(image_array)\n",
    "    \n",
    "    # Add an expected label for this image. If it was a not_bird image, label it 0. If it was a bird, label it 1.\n",
    "    if \"not_bird\" in image_file.stem:\n",
    "        y_test.append(0)\n",
    "    else:\n",
    "        y_test.append(1)\n",
    "        \n",
    "# Convert the list of test images to a numpy array\n",
    "x_test = np.array(x_test)\n",
    "    \n",
    "# Normalize test data st to 0-to-1 range\n",
    "x_test = xception.preprocess_input(x_test)"
   ]
  },
  {
   "cell_type": "code",
   "execution_count": 22,
   "metadata": {},
   "outputs": [
    {
     "name": "stdout",
     "output_type": "stream",
     "text": [
      "True Positives: 91\n",
      "True Negatives: 76\n",
      "False Positives: 24\n",
      "False Negatives: 9\n",
      "             precision    recall  f1-score   support\n",
      "\n",
      "          0       0.89      0.76      0.82       100\n",
      "          1       0.79      0.91      0.85       100\n",
      "\n",
      "avg / total       0.84      0.83      0.83       200\n",
      "\n"
     ]
    }
   ],
   "source": [
    "# Load the Xception neural network to use as a feature extractor\n",
    "feature_extractor = xception.Xception(\n",
    "    weights=\"imagenet\",\n",
    "    include_top=False,\n",
    "    input_shape=(73, 73, 3)\n",
    ")\n",
    "\n",
    "# Load our trained classifier model\n",
    "model3 = load_model(\"bird_feature_classifier_model.h5\")\n",
    "\n",
    "# Extract features for each image (all in one pass)\n",
    "features_x = feature_extractor.predict(x_test)\n",
    "\n",
    "# Given the extracted features, make a final prediction using our own model\n",
    "predictions = model3.predict(features_x)\n",
    "\n",
    "# If the model is more than 50% sure the object is a bird, call it a bird. Otherwise, call it \"not a bird\"\n",
    "predictions = predictions > 0.5 \n",
    "\n",
    "# Calculate how many mis-classifications the model makes\n",
    "tn, fp, fn, tp = confusion_matrix(y_test, predictions).ravel()\n",
    "\n",
    "print(f\"True Positives: {tp}\")\n",
    "print(f\"True Negatives: {tn}\")\n",
    "print(f\"False Positives: {fp}\")\n",
    "print(f\"False Negatives: {fn}\")\n",
    "\n",
    "# Calculate Precision and Recall for each class\n",
    "report = classification_report(y_test, predictions)\n",
    "print(report)"
   ]
  },
  {
   "cell_type": "code",
   "execution_count": null,
   "metadata": {},
   "outputs": [],
   "source": []
  }
 ],
 "metadata": {
  "kernelspec": {
   "display_name": "Python 3",
   "language": "python",
   "name": "python3"
  },
  "language_info": {
   "codemirror_mode": {
    "name": "ipython",
    "version": 3
   },
   "file_extension": ".py",
   "mimetype": "text/x-python",
   "name": "python",
   "nbconvert_exporter": "python",
   "pygments_lexer": "ipython3",
   "version": "3.7.0"
  }
 },
 "nbformat": 4,
 "nbformat_minor": 2
}
