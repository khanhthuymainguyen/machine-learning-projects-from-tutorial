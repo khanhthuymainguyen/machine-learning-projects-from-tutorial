{
 "cells": [
  {
   "cell_type": "markdown",
   "metadata": {},
   "source": [
    "***Train model***"
   ]
  },
  {
   "cell_type": "code",
   "execution_count": 1,
   "metadata": {},
   "outputs": [
    {
     "name": "stderr",
     "output_type": "stream",
     "text": [
      "C:\\Users\\maikh\\Anaconda3\\lib\\site-packages\\sklearn\\ensemble\\weight_boosting.py:29: DeprecationWarning: numpy.core.umath_tests is an internal NumPy module and should not be imported. It will be removed in a future NumPy release.\n",
      "  from numpy.core.umath_tests import inner1d\n"
     ]
    }
   ],
   "source": [
    "import pandas as pd\n",
    "from sklearn.ensemble import GradientBoostingRegressor \n",
    "from sklearn.model_selection import train_test_split\n",
    "from sklearn.linear_model import LinearRegression\n",
    "from sklearn.metrics import mean_absolute_error\n",
    "from sklearn.externals import joblib\n",
    "\n",
    "# Load our data set\n",
    "df = pd.read_csv(\"house_data1.csv\")"
   ]
  },
  {
   "cell_type": "code",
   "execution_count": 2,
   "metadata": {},
   "outputs": [],
   "source": [
    "# Create the X and y arrays\n",
    "X = df[[\"sq_feet\", \"num_bedrooms\", 'num_bathrooms']]\n",
    "y = df['sale_price']\n"
   ]
  },
  {
   "cell_type": "code",
   "execution_count": 3,
   "metadata": {},
   "outputs": [
    {
     "data": {
      "text/plain": [
       "['house_value_model.pkl']"
      ]
     },
     "execution_count": 3,
     "metadata": {},
     "output_type": "execute_result"
    }
   ],
   "source": [
    "# Split the data set in a training set (75%) and a test set (25%)\n",
    "X_train, X_test, y_train, y_test = train_test_split(X, y, test_size=0.25)\n",
    "\n",
    "# Create the Linear Regression model\n",
    "model = GradientBoostingRegressor()\n",
    "\n",
    "# Train the model\n",
    "model.fit(X_train, y_train)\n",
    "\n",
    "# Save the trained model to a file so we can use it to make predictions later\n",
    "joblib.dump(model, \"house_value_model.pkl\")\n",
    "\n"
   ]
  },
  {
   "cell_type": "code",
   "execution_count": 6,
   "metadata": {},
   "outputs": [
    {
     "name": "stdout",
     "output_type": "stream",
     "text": [
      "Model training results:\n",
      " - Training Set Error: 8920.117245027746\n",
      " - Test Set Error: 9288.742478936045\n"
     ]
    }
   ],
   "source": [
    "# Report how well the model is performing \n",
    "print(\"Model training results:\")\n",
    "\n",
    "# Report an error rate on the training set \n",
    "mse_train = mean_absolute_error(y_train, model.predict(X_train))\n",
    "print(f\" - Training Set Error: {mse_train}\")\n",
    "\n",
    "# Report an error rate on the test set\n",
    "mse_test = mean_absolute_error(y_test, model.predict(X_test))\n",
    "print(f\" - Test Set Error: {mse_test}\")"
   ]
  },
  {
   "cell_type": "markdown",
   "metadata": {},
   "source": [
    "***Use model***"
   ]
  },
  {
   "cell_type": "code",
   "execution_count": 7,
   "metadata": {},
   "outputs": [
    {
     "name": "stdout",
     "output_type": "stream",
     "text": [
      "House details:\n",
      "- 2000 sq feet\n",
      "- 3 bedrooms\n",
      "- 2 bathrooms\n",
      " Estimated value: $377,866.26\n"
     ]
    }
   ],
   "source": [
    "from sklearn.externals import joblib\n",
    "\n",
    "# Load our trained model\n",
    "model1 = joblib.load(\"house_value_model.pkl\")\n",
    "\n",
    "# Define the house that we want to value (with the values in the same order as in the training data)\n",
    "house_1 = [\n",
    "    2000, # Size in Square Feet\n",
    "    3, # Number of Bedrooms \n",
    "    2, # Number of Bathrooms \n",
    "]\n",
    "\n",
    "# scikit-learn assumes you want to predict the values for multiple of houses at once, so it expects an array.\n",
    "# We only want to estimate the value of a single house, so there will only be one item in our array.\n",
    "homes = [\n",
    "    house_1\n",
    "]\n",
    "\n",
    "# Make a prediction for each house in the homes array (we only have one)\n",
    "home_values = model1.predict(homes)\n",
    "\n",
    "# Since we are only predicting the house of one house, grab the first prediction returned \n",
    "predicted_value = home_values[0]\n",
    "\n",
    "# Print the results \n",
    "print(\"House details:\")\n",
    "print(f\"- {house_1[0]} sq feet\")\n",
    "print(f\"- {house_1[1]} bedrooms\")\n",
    "print(f\"- {house_1[2]} bathrooms\")\n",
    "print(f\" Estimated value: ${predicted_value:,.2f}\")"
   ]
  },
  {
   "cell_type": "code",
   "execution_count": 9,
   "metadata": {},
   "outputs": [
    {
     "name": "stdout",
     "output_type": "stream",
     "text": [
      "0.373113234213353\n"
     ]
    }
   ],
   "source": [
    "print(1-(100/133)**2-(33/133)**2)"
   ]
  },
  {
   "cell_type": "code",
   "execution_count": 10,
   "metadata": {},
   "outputs": [
    {
     "name": "stdout",
     "output_type": "stream",
     "text": [
      "0.35974747474747476\n"
     ]
    }
   ],
   "source": [
    "print((164/(164+133))*0.349 + (133/(164+133))*0.373)"
   ]
  },
  {
   "cell_type": "code",
   "execution_count": null,
   "metadata": {},
   "outputs": [],
   "source": []
  }
 ],
 "metadata": {
  "kernelspec": {
   "display_name": "Python 3",
   "language": "python",
   "name": "python3"
  },
  "language_info": {
   "codemirror_mode": {
    "name": "ipython",
    "version": 3
   },
   "file_extension": ".py",
   "mimetype": "text/x-python",
   "name": "python",
   "nbconvert_exporter": "python",
   "pygments_lexer": "ipython3",
   "version": "3.7.0"
  }
 },
 "nbformat": 4,
 "nbformat_minor": 2
}
